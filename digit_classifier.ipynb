{
  "nbformat": 4,
  "nbformat_minor": 0,
  "metadata": {
    "colab": {
      "provenance": [],
      "authorship_tag": "ABX9TyOP5HmX4lT2K+rI1KarhyVO",
      "include_colab_link": true
    },
    "kernelspec": {
      "name": "python3",
      "display_name": "Python 3"
    },
    "language_info": {
      "name": "python"
    }
  },
  "cells": [
    {
      "cell_type": "markdown",
      "metadata": {
        "id": "view-in-github",
        "colab_type": "text"
      },
      "source": [
        "<a href=\"https://colab.research.google.com/github/Avinash-ml07/machine_learning_algorithms_from_scratch/blob/main/digit_classifier.ipynb\" target=\"_parent\"><img src=\"https://colab.research.google.com/assets/colab-badge.svg\" alt=\"Open In Colab\"/></a>"
      ]
    },
    {
      "cell_type": "code",
      "execution_count": 1,
      "metadata": {
        "id": "uBZsyMQr_Ahp"
      },
      "outputs": [],
      "source": [
        "import torch\n",
        "import torch.nn as nn\n",
        "import torch.optim as optim\n",
        "import torchvision\n",
        "import torchvision.transforms as transforms\n",
        "from torch.utils.data import DataLoader\n",
        "import matplotlib.pyplot as plt\n",
        "import numpy as np\n"
      ]
    },
    {
      "cell_type": "code",
      "source": [
        "torch.manual_seed(42)\n",
        "transform = transforms.Compose([\n",
        "    transforms.ToTensor(),\n",
        "    transforms.Normalize((0.5,), (0.5,))])\n",
        "train_set = torchvision.datasets.MNIST(root='./data', train=True, download=True, transform=transform)\n",
        "test_set = torchvision.datasets.MNIST(root='./data', train=False, download=True, transform=transform)\n",
        "\n",
        "train_loader = DataLoader(train_set, batch_size=64, shuffle=True)\n",
        "test_loader = DataLoader(test_set, batch_size=64, shuffle=False)"
      ],
      "metadata": {
        "colab": {
          "base_uri": "https://localhost:8080/"
        },
        "id": "PbrTmOIt_KpN",
        "outputId": "283b945a-14ba-46d5-9f5a-0468816a661b"
      },
      "execution_count": 2,
      "outputs": [
        {
          "output_type": "stream",
          "name": "stderr",
          "text": [
            "100%|██████████| 9.91M/9.91M [00:00<00:00, 15.9MB/s]\n",
            "100%|██████████| 28.9k/28.9k [00:00<00:00, 432kB/s]\n",
            "100%|██████████| 1.65M/1.65M [00:00<00:00, 3.95MB/s]\n",
            "100%|██████████| 4.54k/4.54k [00:00<00:00, 1.15MB/s]\n"
          ]
        }
      ]
    },
    {
      "cell_type": "code",
      "source": [
        "class DigitClassifier(nn.Module):\n",
        "    def __init__(self):\n",
        "        super(DigitClassifier, self).__init__()\n",
        "        self.flatten = nn.Flatten()\n",
        "        self.fc1 = nn.Linear(28*28, 128)\n",
        "        self.relu = nn.ReLU()\n",
        "        self.fc2 = nn.Linear(128, 64)\n",
        "        self.fc3 = nn.Linear(64, 10)\n",
        "\n",
        "    def forward(self, x):\n",
        "        x = self.flatten(x)\n",
        "        x = self.fc1(x)\n",
        "        x = self.relu(x)\n",
        "        x = self.fc2(x)\n",
        "        x = self.relu(x)\n",
        "        x = self.fc3(x)\n",
        "        return x\n",
        "\n",
        "model = DigitClassifier()\n",
        "print(model)"
      ],
      "metadata": {
        "colab": {
          "base_uri": "https://localhost:8080/"
        },
        "id": "OKgWQD0-_a47",
        "outputId": "3579e156-cdf8-4a4d-ba15-f247dc899f0e"
      },
      "execution_count": 4,
      "outputs": [
        {
          "output_type": "stream",
          "name": "stdout",
          "text": [
            "DigitClassifier(\n",
            "  (flatten): Flatten(start_dim=1, end_dim=-1)\n",
            "  (fc1): Linear(in_features=784, out_features=128, bias=True)\n",
            "  (relu): ReLU()\n",
            "  (fc2): Linear(in_features=128, out_features=64, bias=True)\n",
            "  (fc3): Linear(in_features=64, out_features=10, bias=True)\n",
            ")\n"
          ]
        }
      ]
    },
    {
      "cell_type": "code",
      "source": [
        "criterion = nn.CrossEntropyLoss()\n",
        "optimizer = optim.Adam(model.parameters(), lr=0.001)\n",
        "num_epochs = 5\n",
        "\n",
        "for epoch in range(num_epochs):\n",
        "    running_loss = 0.0\n",
        "    for i, (images, labels) in enumerate(train_loader, 0):\n",
        "        optimizer.zero_grad()\n",
        "        outputs = model(images)\n",
        "        loss = criterion(outputs, labels)\n",
        "        loss.backward()\n",
        "        optimizer.step()\n",
        "\n",
        "        running_loss += loss.item()\n",
        "        if i % 200 == 199:  # Print every 200 mini-batches\n",
        "            print(f'[{epoch + 1}, {i + 1:5d}] loss: {running_loss / 200:.3f}')\n",
        "            running_loss = 0.0"
      ],
      "metadata": {
        "colab": {
          "base_uri": "https://localhost:8080/"
        },
        "id": "Kp1ShBHK_is_",
        "outputId": "b54d547a-1a47-4f5d-bdad-d126fa97423d"
      },
      "execution_count": 5,
      "outputs": [
        {
          "output_type": "stream",
          "name": "stdout",
          "text": [
            "[1,   200] loss: 0.748\n",
            "[1,   400] loss: 0.353\n",
            "[1,   600] loss: 0.300\n",
            "[1,   800] loss: 0.282\n",
            "[2,   200] loss: 0.222\n",
            "[2,   400] loss: 0.201\n",
            "[2,   600] loss: 0.175\n",
            "[2,   800] loss: 0.165\n",
            "[3,   200] loss: 0.141\n",
            "[3,   400] loss: 0.151\n",
            "[3,   600] loss: 0.129\n",
            "[3,   800] loss: 0.135\n",
            "[4,   200] loss: 0.114\n",
            "[4,   400] loss: 0.108\n",
            "[4,   600] loss: 0.106\n",
            "[4,   800] loss: 0.111\n",
            "[5,   200] loss: 0.098\n",
            "[5,   400] loss: 0.094\n",
            "[5,   600] loss: 0.095\n",
            "[5,   800] loss: 0.093\n"
          ]
        }
      ]
    },
    {
      "cell_type": "code",
      "source": [
        "correct = 0\n",
        "total = 0\n",
        "\n",
        "with torch.no_grad():\n",
        "    for images, labels in test_loader:\n",
        "        outputs = model(images)\n",
        "        _, predicted = torch.max(outputs.data, 1)\n",
        "        total += labels.size(0)\n",
        "        correct += (predicted == labels).sum().item()\n",
        "\n",
        "accuracy = 100 * correct / total\n",
        "print(f'Accuracy on test images: {accuracy:.2f}%')"
      ],
      "metadata": {
        "colab": {
          "base_uri": "https://localhost:8080/"
        },
        "id": "nibKhuRh_vW0",
        "outputId": "b352eae2-3cb9-4812-978c-e086b07d8fb2"
      },
      "execution_count": 6,
      "outputs": [
        {
          "output_type": "stream",
          "name": "stdout",
          "text": [
            "Accuracy on test images: 96.50%\n"
          ]
        }
      ]
    },
    {
      "cell_type": "code",
      "source": [
        "dataiter = iter(test_loader)\n",
        "images, labels = next(dataiter)\n",
        "img = images[0].unsqueeze(0)\n",
        "\n",
        "with torch.no_grad():\n",
        "    output = model(img)\n",
        "    _, predicted = torch.max(output, 1)\n",
        "\n",
        "img = img.squeeze().numpy()\n",
        "plt.imshow(img, cmap='gray')\n",
        "plt.title(f'Actual: {labels[0].item()}, Predicted: {predicted.item()}')\n",
        "plt.show()\n",
        "\n",
        "print(f\"Actual label: {labels[0].item()}\")\n",
        "print(f\"Predicted label: {predicted.item()}\")\n",
        "print(\"Raw output scores:\", output.numpy())\n"
      ],
      "metadata": {
        "colab": {
          "base_uri": "https://localhost:8080/",
          "height": 540
        },
        "id": "CFFDJTMi__7r",
        "outputId": "a63d54a8-2e95-4e18-e2c0-5b5c725b506e"
      },
      "execution_count": 7,
      "outputs": [
        {
          "output_type": "display_data",
          "data": {
            "text/plain": [
              "<Figure size 640x480 with 1 Axes>"
            ],
            "image/png": "[encoded data removed]"
          },
          "metadata": {}
        },
        {
          "output_type": "stream",
          "name": "stdout",
          "text": [
            "Actual label: 7\n",
            "Predicted label: 7\n",
            "Raw output scores: [[ -6.190345   -3.1433117   1.2048998   2.0126164 -10.566123   -5.8291183\n",
            "  -16.44911     9.275152   -1.54367    -3.085895 ]]\n"
          ]
        }
      ]
    }
  ]
}