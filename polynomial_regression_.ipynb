{
 "cells": [
  {
   "cell_type": "code",
   "execution_count": null,
   "metadata": {},
   "outputs": [],
   "source": [
    "import pandas as pd\n",
    "import numpy as np\n",
    "import matplotlib.pyplot as plt "
   ]
  },
  {
   "cell_type": "markdown",
   "metadata": {},
   "source": [
    "loading the data set and defining features and tarets"
   ]
  },
  {
   "cell_type": "code",
   "execution_count": null,
   "metadata": {},
   "outputs": [],
   "source": [
    "file_path = r\"C:\\Users\\91944\\OneDrive - Indian Institute of Technology Indian School of Mines Dhanbad\\Desktop\\ml\\polynomial_regression_train.csv\"\n",
    "data = pd.read_csv(file_path)\n",
    "\n",
    "data = data.drop(columns=['ID'])\n",
    "\n",
    "X = data.drop(columns=['Target']).to_numpy()\n",
    "y = data['Target'].to_numpy()"
   ]
  },
  {
   "cell_type": "markdown",
   "metadata": {},
   "source": [
    "splitting the data set into training and testing data set and normalising the data "
   ]
  },
  {
   "cell_type": "code",
   "execution_count": null,
   "metadata": {},
   "outputs": [],
   "source": [
    "def train_test_split_manual(X, y, test_size=0.2, random_seed=42):\n",
    "    np.random.seed(random_seed)\n",
    "    indices = np.random.permutation(X.shape[0])\n",
    "    test_size = int(X.shape[0] * test_size)\n",
    "    test_indices, train_indices = indices[:test_size], indices[test_size:]\n",
    "    return X[train_indices], X[test_indices], y[train_indices], y[test_indices]\n",
    "\n",
    "X_train, X_test, y_train, y_test = train_test_split_manual(X, y, test_size=0.2)\n",
    "X_train_mean=X_train.mean()\n",
    "X_train_std =X_train.std()\n",
    "X_train=(X_train-X_train_mean)/X_train_std\n",
    "X_test = (X_test-X_train_mean)/X_train_std"
   ]
  },
  {
   "cell_type": "markdown",
   "metadata": {},
   "source": [
    "generating polynomial feaures"
   ]
  },
  {
   "cell_type": "code",
   "execution_count": null,
   "metadata": {},
   "outputs": [],
   "source": [
    "\n",
    "\n",
    "\n",
    "\n",
    "def generate_polynomial_features(X, degree):\n",
    "    n_samples, n_features = X.shape\n",
    "    poly_features = np.ones((n_samples, 1))  # Bias term         \n",
    "    for d in range(1, degree + 1):\n",
    "        for combination in np.array(np.meshgrid(*[range(n_features) for _ in range(d)])).T.reshape(-1, d):\n",
    "            poly_features = np.hstack((poly_features, np.prod(X[:, combination], axis=1).reshape(-1, 1)))\n",
    "    return poly_features\n",
    "\n"
   ]
  },
  {
   "cell_type": "markdown",
   "metadata": {},
   "source": [
    "defining gradient descent algorithm"
   ]
  },
  {
   "cell_type": "code",
   "execution_count": null,
   "metadata": {},
   "outputs": [],
   "source": [
    "def gradient_descent(X, y, learning_rate, epochs):\n",
    "    \n",
    "    n_samples, n_features = X.shape\n",
    "    coefficients = np.zeros(n_features)  \n",
    "    cost_history = []  \n",
    "    \n",
    "    for _ in range(epochs):\n",
    "        y_pred = X @ coefficients\n",
    "        gradients = (1/ n_samples) * X.T @ (y_pred - y)\n",
    "        coefficients -= learning_rate * gradients\n",
    "        \n",
    "        mse = (1/2)*np.mean((y - y_pred) ** 2)\n",
    "        cost_history.append(mse)  \n",
    "        \n",
    "        \n",
    "    \n",
    "    return coefficients, cost_history"
   ]
  },
  {
   "cell_type": "markdown",
   "metadata": {},
   "source": [
    "predicted the testing data test"
   ]
  },
  {
   "cell_type": "code",
   "execution_count": null,
   "metadata": {},
   "outputs": [],
   "source": [
    "def predict_polynomial_regression(X, coefficients):\n",
    "    return X @ coefficients"
   ]
  },
  {
   "cell_type": "markdown",
   "metadata": {},
   "source": [
    "defining the metrics"
   ]
  },
  {
   "cell_type": "code",
   "execution_count": null,
   "metadata": {},
   "outputs": [],
   "source": [
    "def r2_score(y_true, y_pred):\n",
    "    ss_total = np.sum((y_true - np.mean(y_true)) ** 2)  \n",
    "    ss_residual = np.sum((y_true - y_pred) **2)\n",
    "    return 1 - (ss_residual / ss_total)                      \n",
    "\n",
    "\n",
    "    \n",
    "\n"
   ]
  },
  {
   "cell_type": "markdown",
   "metadata": {},
   "source": [
    "training the data set "
   ]
  },
  {
   "cell_type": "code",
   "execution_count": null,
   "metadata": {},
   "outputs": [],
   "source": [
    "\n",
    "degree = 4\n",
    "learning_rate = 0.01\n",
    "epochs = 1000\n",
    "X_poly_train = generate_polynomial_features(X_train, degree)\n",
    "X_poly_test = generate_polynomial_features(X_test, degree)\n",
    "\n",
    "\n",
    "coefficients,cost_fucntion = gradient_descent(X_poly_train, y_train,  learning_rate, epochs)\n",
    "\n",
    "\n",
    "\n",
    "y_train_pred = predict_polynomial_regression(X_poly_train, coefficients)\n",
    "y_test_pred = predict_polynomial_regression(X_poly_test, coefficients)\n",
    "\n",
    "print(\"final loss = \",cost_fucntion[-1])\n",
    "train_r2 = r2_score(y_train, y_train_pred)\n",
    "test_r2 = r2_score(y_test, y_test_pred)\n",
    "\n",
    "print(\"\\nFinal Results:\")\n",
    "\n",
    "print(\"Training R²:\", train_r2)\n",
    "print(\"Testing R²:\", test_r2)        "
   ]
  },
  {
   "cell_type": "code",
   "execution_count": null,
   "metadata": {},
   "outputs": [],
   "source": [
    "print(coefficients.shape)\n",
    "print(X_poly_train.shape)\n",
    "plt.plot(range(epochs),cost_fucntion) \n",
    "plt.title(\"convergence\")\n",
    "plt.xlabel(\"iterations\")\n",
    "plt.ylabel(\"cost fucntion\")\n",
    "plt.show()\n"
   ]
  },
  {
   "cell_type": "markdown",
   "metadata": {},
   "source": [
    "testing the data set "
   ]
  },
  {
   "cell_type": "code",
   "execution_count": null,
   "metadata": {},
   "outputs": [],
   "source": [
    "test_data = pd.read_csv(r\"C:\\Users\\91944\\OneDrive - Indian Institute of Technology Indian School of Mines Dhanbad\\Desktop\\ml\\polynomial_regression_test.csv\")\n",
    "\n",
    "X_new = test_data.drop(columns=[\"ID\"]).values\n",
    "X_new = (X_new - X_train_mean)/X_train_std \n",
    "\n",
    "X_poly_new = generate_polynomial_features(X_new, degree)\n",
    "y_new_pred = predict_polynomial_regression(X_poly_new, coefficients)\n",
    "\n",
    "\n",
    "test_data['Predicted'] = y_new_pred\n",
    "test_data.to_csv(r\"C:\\Users\\91944\\OneDrive - Indian Institute of Technology Indian School of Mines Dhanbad\\Desktop\\ml\\polynomial_regression_test_pred.csv\", index=False)\n",
    "\n",
    "print(\"Predictions saved in the original test data file.\")\n",
    "\n"
   ]
  }
 ],
 "metadata": {
  "kernelspec": {
   "display_name": "venv",
   "language": "python",
   "name": "python3"
  },
  "language_info": {
   "codemirror_mode": {
    "name": "ipython",
    "version": 3
   },
   "file_extension": ".py",
   "mimetype": "text/x-python",
   "name": "python",
   "nbconvert_exporter": "python",
   "pygments_lexer": "ipython3",
   "version": "3.12.6"
  }
 },
 "nbformat": 4,
 "nbformat_minor": 2
}
