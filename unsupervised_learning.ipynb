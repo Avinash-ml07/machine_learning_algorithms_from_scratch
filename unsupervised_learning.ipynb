{
 "cells": [
  {
   "cell_type": "code",
   "execution_count": null,
   "metadata": {},
   "outputs": [],
   "source": [
    "import numpy as np\n",
    "import pandas as pd\n",
    "import matplotlib.pyplot as plt        "
   ]
  },
  {
   "cell_type": "markdown",
   "metadata": {},
   "source": [
    "loading the data  set "
   ]
  },
  {
   "cell_type": "code",
   "execution_count": null,
   "metadata": {},
   "outputs": [],
   "source": [
    "data = pd.read_csv(r\"C:\\Users\\91944\\OneDrive - Indian Institute of Technology Indian School of Mines Dhanbad\\Desktop\\ml\\unsupervised_data.csv\")\n",
    "\n",
    "X = data.values"
   ]
  },
  {
   "cell_type": "markdown",
   "metadata": {},
   "source": [
    "initialising the centroids and clusters "
   ]
  },
  {
   "cell_type": "code",
   "execution_count": null,
   "metadata": {},
   "outputs": [],
   "source": [
    "def initialize_centroids(X, k):\n",
    "    np.random.seed(42) \n",
    "    random_indices = np.random.permutation(X.shape[0])[:k]\n",
    "    return X[random_indices]\n",
    "\n",
    "def assign_clusters(X, centroids):\n",
    "    distances = np.array([np.linalg.norm(X - centroid, axis=1) for centroid in centroids]).T\n",
    "    return np.argmin(distances, axis=1)\n",
    "\n",
    "def calculate_centroids(X, labels, k):\n",
    "    return np.array([X[labels == i].mean(axis=0) for i in range(k)])"
   ]
  },
  {
   "cell_type": "markdown",
   "metadata": {},
   "source": [
    "distortion cost function"
   ]
  },
  {
   "cell_type": "code",
   "execution_count": null,
   "metadata": {},
   "outputs": [],
   "source": [
    "def calculate_distortion_cost(X, centroids, labels):\n",
    "  \n",
    "    distortion = 0.0\n",
    "    for i in range(len(X)):\n",
    "        centroid = centroids[labels[i]]\n",
    "        distortion += np.sum((X[i] - centroid) ** 2)\n",
    "    return distortion    \n",
    "\n",
    "\n"
   ]
  },
  {
   "cell_type": "markdown",
   "metadata": {},
   "source": [
    "training the data set "
   ]
  },
  {
   "cell_type": "code",
   "execution_count": null,
   "metadata": {},
   "outputs": [],
   "source": [
    "def k_means(X, k, iterations=300, tol=1e-4):\n",
    "\n",
    "    centroids = initialize_centroids(X, k)\n",
    "    cost_fucntion=[]\n",
    "\n",
    "    for iteration in range(iterations):\n",
    "        labels = assign_clusters(X, centroids)\n",
    "        \n",
    "        new_centroids = calculate_centroids(X, labels, k)\n",
    "        cost_fucntion.append(calculate_distortion_cost(X, new_centroids, labels))\n",
    "        \n",
    "        if np.all(np.abs(new_centroids - centroids) < tol):\n",
    "            print(f\"Converged after {iteration} iterations\")\n",
    "            break\n",
    "        \n",
    "        centroids = new_centroids\n",
    "\n",
    "    return centroids, labels,cost_fucntion"
   ]
  },
  {
   "cell_type": "code",
   "execution_count": null,
   "metadata": {},
   "outputs": [],
   "source": [
    "k = 5\n",
    "iterations=300\n",
    "centroids, labels,cost_fucntion = k_means(X, k,iterations)\n",
    "\n",
    "print(\"Centroids:\\n\", centroids)\n",
    "print(\"Cluster labels:\\n\", labels)\n",
    "print(\"final cost function = \", cost_fucntion[-1])"
   ]
  },
  {
   "cell_type": "code",
   "execution_count": null,
   "metadata": {},
   "outputs": [],
   "source": [
    "plt.plot(range(len(cost_fucntion)),cost_fucntion)\n",
    "plt.title(\"cost fucntion convergence\")\n",
    "plt.xlabel(\"iterations\")\n",
    "plt.ylabel(\"cost function\")\n",
    "plt.show()"
   ]
  }
 ],
 "metadata": {
  "kernelspec": {
   "display_name": "venv",
   "language": "python",
   "name": "python3"
  },
  "language_info": {
   "codemirror_mode": {
    "name": "ipython",
    "version": 3
   },
   "file_extension": ".py",
   "mimetype": "text/x-python",
   "name": "python",
   "nbconvert_exporter": "python",
   "pygments_lexer": "ipython3",
   "version": "3.12.6"
  }
 },
 "nbformat": 4,
 "nbformat_minor": 2
}
