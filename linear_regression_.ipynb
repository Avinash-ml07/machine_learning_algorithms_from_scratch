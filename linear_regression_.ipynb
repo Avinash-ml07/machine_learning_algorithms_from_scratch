{
 "cells": [
  {
   "cell_type": "code",
   "execution_count": null,
   "metadata": {},
   "outputs": [],
   "source": [
    "import numpy as np\n",
    "import pandas as pd\n",
    "import matplotlib.pyplot as plt"
   ]
  },
  {
   "cell_type": "markdown",
   "metadata": {},
   "source": [
    "loading the data set and defining features and targets"
   ]
  },
  {
   "cell_type": "code",
   "execution_count": null,
   "metadata": {},
   "outputs": [],
   "source": [
    "file_path = r\"C:\\Users\\91944\\OneDrive - Indian Institute of Technology Indian School of Mines Dhanbad\\Desktop\\ml\\linear_regression_train.csv\"\n",
    "data = pd.read_csv(file_path)\n",
    "\n",
    "data = data.drop(columns=['ID'])\n",
    "\n",
    "X = data.drop(columns=['Target']).values  \n",
    "y = data['Target'].values  \n",
    "\n",
    "X = np.c_[np.ones(X.shape[0]), X]\n"
   ]
  },
  {
   "cell_type": "markdown",
   "metadata": {},
   "source": [
    "splitting the data set into training and testing data set "
   ]
  },
  {
   "cell_type": "code",
   "execution_count": null,
   "metadata": {},
   "outputs": [],
   "source": [
    "def train_test_split(x, y, test_size=0.2,random_state=None):\n",
    "    if random_state is not None :\n",
    "        np.random.seed(random_state)\n",
    "    indices=np.arange(X.shape[0])\n",
    "    np.random.shuffle(indices)\n",
    "\n",
    "    test_size=int(len(indices)*test_size)\n",
    "    test_indices=indices[:test_size]\n",
    "    train_indices=indices[test_size:]\n",
    "    return x[train_indices],x[test_indices],y[train_indices],y[test_indices]\n",
    "\n",
    "X_train,X_test,y_train,y_test=train_test_split(X,y,test_size=0.2,random_state=42)"
   ]
  },
  {
   "cell_type": "markdown",
   "metadata": {},
   "source": [
    "cost function "
   ]
  },
  {
   "cell_type": "code",
   "execution_count": null,
   "metadata": {},
   "outputs": [],
   "source": [
    "def compute_cost(X, y, theta):\n",
    "    m = len(y)\n",
    "    predictions = X @ theta\n",
    "    cost = (1 / (2 * m)) * np.sum((predictions - y) ** 2)\n",
    "    return cost\n",
    "\n"
   ]
  },
  {
   "cell_type": "markdown",
   "metadata": {},
   "source": [
    "gradient descent algorithm "
   ]
  },
  {
   "cell_type": "code",
   "execution_count": null,
   "metadata": {},
   "outputs": [],
   "source": [
    "def gradient_descent(X, y, theta, learning_rate, iterations):\n",
    "    m = len(y)\n",
    "    cost_history = []  \n",
    "\n",
    "    for _ in range(iterations):\n",
    "        predictions = X @ theta\n",
    "        gradients = (1 / m) * X.T @ (predictions - y)\n",
    "        theta -= learning_rate * gradients\n",
    "        cost = compute_cost(X, y, theta)\n",
    "        cost_history.append(cost)\n",
    "\n",
    "    return theta, cost_history"
   ]
  },
  {
   "cell_type": "markdown",
   "metadata": {},
   "source": [
    "error calculating "
   ]
  },
  {
   "cell_type": "code",
   "execution_count": null,
   "metadata": {},
   "outputs": [],
   "source": [
    "def calculate_mse(y_true, y_pred):\n",
    "    mse = np.mean((y_true - y_pred) ** 2)\n",
    "    return mse"
   ]
  },
  {
   "cell_type": "markdown",
   "metadata": {},
   "source": [
    "training the data set "
   ]
  },
  {
   "cell_type": "code",
   "execution_count": null,
   "metadata": {},
   "outputs": [],
   "source": [
    "m, n = X_train.shape  \n",
    "theta = np.zeros(n)        \n",
    "learning_rate = 0.1\n",
    "iterations = 5000\n",
    "\n",
    "X_train_mean = X_train.mean()\n",
    "X_train_std = X_train.std()\n",
    "X_train = (X_train - X_train_mean)/X_train_std\n",
    "X_test = (X_test - X_train_mean)/X_train_std \n",
    "\n",
    "theta, cost_history = gradient_descent(X_train, y_train, theta, learning_rate, iterations)\n",
    "print(theta.shape)\n",
    "\n",
    "y_train_predicted = X_train @ theta\n",
    "y_test_predicted = X_test @ theta\n",
    "\n",
    "print(\"Final cost after training:\", cost_history[-1])\n",
    "\n",
    "test_mse = calculate_mse(y_test, y_test_predicted)\n",
    "train_mse = calculate_mse(y_train,y_train_predicted)\n",
    "print(\"Mean Squared Error on the test set:\", test_mse)\n",
    "print(\"Mean Squared Error on the train set:\", train_mse)\n"
   ]
  },
  {
   "cell_type": "markdown",
   "metadata": {},
   "source": [
    "plotting the cost function convergence "
   ]
  },
  {
   "cell_type": "code",
   "execution_count": null,
   "metadata": {},
   "outputs": [],
   "source": [
    "plt.plot(range(iterations), cost_history, color='blue')\n",
    "plt.title('Cost Function Convergence')\n",
    "plt.xlabel('Iterations')\n",
    "plt.ylabel('Cost')\n",
    "plt.show()"
   ]
  },
  {
   "cell_type": "markdown",
   "metadata": {},
   "source": [
    "testing the data set "
   ]
  },
  {
   "cell_type": "code",
   "execution_count": null,
   "metadata": {},
   "outputs": [],
   "source": [
    "test_data = pd.read_csv(r\"C:\\Users\\91944\\OneDrive - Indian Institute of Technology Indian School of Mines Dhanbad\\Desktop\\ml\\linear_regression_test_1.csv\")\n",
    "\n",
    "X_new = test_data.drop(columns=[\"ID\"]).values\n",
    "X_new = np.c_[np.ones(X_new.shape[0]), X_new]\n",
    "\n",
    "X_new = (X_new - X_train_mean)/X_train_std \n",
    "\n",
    "y_new_pred = X_new @ theta\n",
    "\n",
    "test_data['Predicted'] = y_new_pred\n",
    "\n",
    "test_data.to_csv(r\"C:\\Users\\91944\\OneDrive - Indian Institute of Technology Indian School of Mines Dhanbad\\Desktop\\ml\\linear_regression_test_updated.csv\", index=False)\n",
    "\n",
    "print(\"Predictions saved in the original test data file.\")\n",
    "\n"
   ]
  }
 ],
 "metadata": {
  "kernelspec": {
   "display_name": "venv",
   "language": "python",
   "name": "python3"
  },
  "language_info": {
   "codemirror_mode": {
    "name": "ipython",
    "version": 3
   },
   "file_extension": ".py",
   "mimetype": "text/x-python",
   "name": "python",
   "nbconvert_exporter": "python",
   "pygments_lexer": "ipython3",
   "version": "3.12.6"
  }
 },
 "nbformat": 4,
 "nbformat_minor": 2
}
